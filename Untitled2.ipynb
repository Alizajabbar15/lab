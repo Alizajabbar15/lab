{
 "cells": [
  {
   "cell_type": "code",
   "execution_count": 2,
   "id": "034ccb84",
   "metadata": {},
   "outputs": [],
   "source": [
    "import numpy as np\n",
    "import matplotlib.pyplot as plt"
   ]
  },
  {
   "cell_type": "code",
   "execution_count": 4,
   "id": "09113d70",
   "metadata": {},
   "outputs": [
    {
     "name": "stdout",
     "output_type": "stream",
     "text": [
      "my name is aliza\n"
     ]
    }
   ],
   "source": [
    "a=3 \n",
    "b=3\n",
    "if a==b :\n",
    "    print(\"my name is aliza\")"
   ]
  },
  {
   "cell_type": "code",
   "execution_count": 7,
   "id": "c074d2ae",
   "metadata": {},
   "outputs": [
    {
     "name": "stdout",
     "output_type": "stream",
     "text": [
      "0\n",
      "1\n",
      "2\n",
      "3\n"
     ]
    }
   ],
   "source": [
    "a=4\n",
    "if a==4:\n",
    "    for i in range(a):        #jb hum koi statement ya function likhty hyn to hm colon lgatay hyn\n",
    "        print(i)"
   ]
  },
  {
   "cell_type": "code",
   "execution_count": 14,
   "id": "b2f75cd3",
   "metadata": {},
   "outputs": [
    {
     "name": "stdout",
     "output_type": "stream",
     "text": [
      "52\n"
     ]
    }
   ],
   "source": [
    "x=5\n",
    "f= lambda x: 2*x**2+2\n",
    "print(f(x))     # simple f(x) sy b a jata ha answer.\n"
   ]
  },
  {
   "cell_type": "code",
   "execution_count": 15,
   "id": "f73971cb",
   "metadata": {},
   "outputs": [
    {
     "data": {
      "text/plain": [
       "52"
      ]
     },
     "execution_count": 15,
     "metadata": {},
     "output_type": "execute_result"
    }
   ],
   "source": [
    "x=5\n",
    "f= lambda x: 2*x**2+2\n",
    "(f(x))     # simple f(x) sy b a jata ha answer."
   ]
  },
  {
   "cell_type": "code",
   "execution_count": 16,
   "id": "6cec3c80",
   "metadata": {},
   "outputs": [
    {
     "name": "stdout",
     "output_type": "stream",
     "text": [
      "enter x1:5\n",
      "enter x2:10\n"
     ]
    }
   ],
   "source": [
    "x1 = float(input('enter x1:'))     #jb hum user sy values lyty hyn real num mn to hm float data type use krty hyn.\n",
    "x2 = float(input('enter x2:'))"
   ]
  },
  {
   "cell_type": "code",
   "execution_count": 23,
   "id": "28105986",
   "metadata": {},
   "outputs": [
    {
     "data": {
      "text/plain": [
       "5.0"
      ]
     },
     "execution_count": 23,
     "metadata": {},
     "output_type": "execute_result"
    }
   ],
   "source": [
    "x1"
   ]
  },
  {
   "cell_type": "code",
   "execution_count": 25,
   "id": "e80cd3b6",
   "metadata": {},
   "outputs": [
    {
     "name": "stdout",
     "output_type": "stream",
     "text": [
      "aliza\n"
     ]
    }
   ],
   "source": [
    " x=\"aliza\"\n",
    " print(x)\n",
    " \n"
   ]
  },
  {
   "cell_type": "code",
   "execution_count": null,
   "id": "62d917d9",
   "metadata": {},
   "outputs": [],
   "source": []
  }
 ],
 "metadata": {
  "kernelspec": {
   "display_name": "Python 3 (ipykernel)",
   "language": "python",
   "name": "python3"
  },
  "language_info": {
   "codemirror_mode": {
    "name": "ipython",
    "version": 3
   },
   "file_extension": ".py",
   "mimetype": "text/x-python",
   "name": "python",
   "nbconvert_exporter": "python",
   "pygments_lexer": "ipython3",
   "version": "3.9.7"
  }
 },
 "nbformat": 4,
 "nbformat_minor": 5
}
